{
 "cells": [
  {
   "cell_type": "markdown",
   "metadata": {},
   "source": [
    "# Batch run"
   ]
  },
  {
   "cell_type": "code",
   "execution_count": null,
   "metadata": {},
   "outputs": [],
   "source": [
    "import tensorflow as tf\n",
    "print(tf.config.list_physical_devices('GPU'))"
   ]
  },
  {
   "cell_type": "code",
   "execution_count": null,
   "metadata": {},
   "outputs": [],
   "source": [
    "from keras.models import Sequential\n",
    "from keras.layers import LSTM, Dense, TimeDistributed\n",
    "from keras.optimizers import RMSprop\n",
    "from keras.callbacks import EarlyStopping\n",
    "import numpy as np"
   ]
  },
  {
   "cell_type": "code",
   "execution_count": null,
   "metadata": {},
   "outputs": [],
   "source": [
    "trainX = np.load(\"../data/trainX.npy\")\n",
    "output_train = np.load(\"../data/output_train.npy\")\n",
    "validateX = np.load(\"../data/validateX.npy\")\n",
    "output_validate = np.load(\"../data/output_validate.npy\")\n",
    "testX = np.load(\"../data/testX.npy\")\n",
    "output_test = np.load(\"../data/output_test.npy\")"
   ]
  },
  {
   "cell_type": "code",
   "execution_count": null,
   "metadata": {},
   "outputs": [],
   "source": [
    "import os\n",
    "import json\n",
    "import csv\n",
    "\n",
    "EPOCHS=10\n",
    "\n",
    "\n",
    "\n",
    "# Define hyperparameter values\n",
    "batch_sizes = [16, 32, 64]  # Batch sizes\n",
    "input_shapes = [(10, trainX.shape[2]), (20, trainX.shape[2]), (30, trainX.shape[2])]  # Time steps\n",
    "lstm_units_list = [16, 32]  # LSTM units\n",
    "\n",
    "# CSV file to log results\n",
    "csv_filename = \"training_results.csv\"\n",
    "csv_header = [\"Batch Size\", \"Time Steps\", \"LSTM Units\", \"Final Training Loss\", \"Final Validation Loss\", \"Epochs Trained\"]\n",
    "\n",
    "# If CSV file does not exist, create it and add a header\n",
    "if not os.path.exists(csv_filename):\n",
    "    with open(csv_filename, mode='w', newline='') as file:\n",
    "        writer = csv.writer(file)\n",
    "        writer.writerow(csv_header)\n",
    "\n",
    "# Training Loop\n",
    "run_id = 0\n",
    "for batch_size in batch_sizes:\n",
    "    for input_shape in input_shapes:\n",
    "        for lstm_units in lstm_units_list:\n",
    "            run_id += 1\n",
    "            print(f\"\\nTraining Run {run_id}: batch_size={batch_size}, time_steps={input_shape[0]}, lstm_units={lstm_units}\\n\")\n",
    "\n",
    "            with tf.device('CPU:0'):\n",
    "                # Define Model\n",
    "                model = Sequential()\n",
    "                model.add(LSTM(lstm_units, input_shape=input_shape, return_sequences=True, activation='sigmoid'))\n",
    "                model.add(TimeDistributed(Dense(1)))  # Output at each time step\n",
    "\n",
    "                # Compile Model\n",
    "                model.compile(optimizer=RMSprop(learning_rate=0.01), loss='mean_squared_error', metrics=['mse'])\n",
    "\n",
    "                # Early Stopping (Stops if validation loss doesn't improve for 20 epochs)\n",
    "                early_stopping = EarlyStopping(monitor='val_loss', patience=20, restore_best_weights=True, verbose=1)\n",
    "\n",
    "            # Create directory for this run\n",
    "            model_name = f\"model_bs{batch_size}_ts{input_shape[0]}_units{lstm_units}\"\n",
    "            run_dir = f\"./models/{model_name}/\"\n",
    "            os.makedirs(run_dir, exist_ok=True)\n",
    "\n",
    "\n",
    "\n",
    "            # Train Model\n",
    "            history = model.fit(trainX, output_train, epochs=EPOCHS, batch_size=batch_size, \n",
    "                                validation_data=(validateX, output_validate), \n",
    "                                verbose=2, callbacks=[early_stopping])\n",
    "\n",
    "            # Save final model\n",
    "            model.save(os.path.join(run_dir, f\"{model_name}.keras\"))\n",
    "\n",
    "            # Save training history\n",
    "            history_path = os.path.join(run_dir, f\"{model_name}_history.json\")\n",
    "            with open(history_path, 'w') as f:\n",
    "                json.dump(history.history, f)\n",
    "\n",
    "            # Log results to CSV\n",
    "            final_training_loss = history.history['loss'][-1]\n",
    "            final_validation_loss = history.history['val_loss'][-1]\n",
    "            epochs_trained = len(history.history['loss'])\n",
    "\n",
    "            with open(csv_filename, mode='a', newline='') as file:\n",
    "                writer = csv.writer(file)\n",
    "                writer.writerow([batch_size, input_shape[0], lstm_units, final_training_loss, final_validation_loss, epochs_trained])\n",
    "\n",
    "            print(f\"Model and history saved in {run_dir}\")\n",
    "            print(f\"Results logged to {csv_filename}\")\n"
   ]
  },
  {
   "cell_type": "code",
   "execution_count": null,
   "metadata": {},
   "outputs": [],
   "source": [
    "import tensorflow as tf\n",
    "print(tf.config.list_physical_devices('GPU'))"
   ]
  },
  {
   "cell_type": "code",
   "execution_count": null,
   "metadata": {},
   "outputs": [],
   "source": [
    "import pandas as pd\n",
    "\n",
    "# Load results CSV into a DataFrame\n",
    "df = pd.read_csv(\"training_results.csv\")\n",
    "\n",
    "# Display the results sorted by lowest validation loss\n",
    "df_sorted = df.sort_values(by=\"Final Validation Loss\", ascending=True)\n",
    "print(df_sorted)\n"
   ]
  },
  {
   "cell_type": "code",
   "execution_count": null,
   "metadata": {},
   "outputs": [],
   "source": [
    "import json\n",
    "import matplotlib.pyplot as plt\n",
    "\n",
    "# Load training history\n",
    "history_path = \"./models/model_bs32_ts20_units64/model_bs32_ts20_units64_history.json\"\n",
    "with open(history_path, 'r') as f:\n",
    "    history = json.load(f)\n",
    "\n",
    "# Plot loss curves\n",
    "plt.plot(history['loss'], label='Training Loss')\n",
    "plt.plot(history['val_loss'], label='Validation Loss')\n",
    "plt.xlabel('Epochs')\n",
    "plt.ylabel('Loss')\n",
    "plt.legend()\n",
    "plt.title('Training Performance')\n",
    "plt.show()\n"
   ]
  }
 ],
 "metadata": {
  "kernelspec": {
   "display_name": ".venv",
   "language": "python",
   "name": "python3"
  },
  "language_info": {
   "codemirror_mode": {
    "name": "ipython",
    "version": 3
   },
   "file_extension": ".py",
   "mimetype": "text/x-python",
   "name": "python",
   "nbconvert_exporter": "python",
   "pygments_lexer": "ipython3",
   "version": "3.10.12"
  }
 },
 "nbformat": 4,
 "nbformat_minor": 2
}
